{
  "nbformat": 4,
  "nbformat_minor": 0,
  "metadata": {
    "colab": {
      "provenance": [],
      "authorship_tag": "ABX9TyOjXjPaKh+MiRqb9ftDUwVV",
      "include_colab_link": true
    },
    "kernelspec": {
      "name": "python3",
      "display_name": "Python 3"
    },
    "language_info": {
      "name": "python"
    }
  },
  "cells": [
    {
      "cell_type": "markdown",
      "metadata": {
        "id": "view-in-github",
        "colab_type": "text"
      },
      "source": [
        "<a href=\"https://colab.research.google.com/github/a124557/Tensorflow-CIFAR10-Image-Classifier/blob/main/Image_Classifier.ipynb\" target=\"_parent\"><img src=\"https://colab.research.google.com/assets/colab-badge.svg\" alt=\"Open In Colab\"/></a>"
      ]
    },
    {
      "cell_type": "code",
      "execution_count": null,
      "metadata": {
        "id": "tlMz5ZxEU4K1"
      },
      "outputs": [],
      "source": [
        "# import libraries\n",
        "import tensorflow as tf\n",
        "from tensorflow.keras import layers\n",
        "import keras.utils"
      ]
    },
    {
      "cell_type": "code",
      "source": [
        "# loading the CIFAR10 dataset\n",
        "(x_train, y_train), (x_test, y_test) = keras.datasets.cifar10.load_data()"
      ],
      "metadata": {
        "id": "1urhsimzZ6Fi"
      },
      "execution_count": null,
      "outputs": []
    },
    {
      "cell_type": "code",
      "source": [
        "# preprocessing the datasets so pixels values are a number between 0 and 1 to better process the data and help the model generaelize better\n",
        "x_train = x_train.astype('float32')/255\n",
        "x_test = x_test.astype('float32')/255"
      ],
      "metadata": {
        "id": "m7Eml7EwaGPl"
      },
      "execution_count": null,
      "outputs": []
    },
    {
      "cell_type": "code",
      "source": [
        "# convert the 10 integer labels to categorical format (one-hot encoded vectors e.g. [0,1,0]) which allows the model to learn the realtionships between \n",
        "# categories better\n",
        "y_train = keras.utils.to_categorical(y_train, 10)\n",
        "y_test = keras.utils.to_categorical(y_test, 10)"
      ],
      "metadata": {
        "id": "nzGoZBBf4Vd2"
      },
      "execution_count": null,
      "outputs": []
    },
    {
      "cell_type": "code",
      "source": [
        "# creating a dataset of the data where the arrays represent both features and labels of the sample\n",
        "train_dataset = tf.data.Dataset.from_tensor_slices((x_train, y_train))\n",
        "test_dataset = tf.data.Dataset.from_tensor_slices((x_test, y_test))"
      ],
      "metadata": {
        "id": "3vBHz0806Dne"
      },
      "execution_count": null,
      "outputs": []
    },
    {
      "cell_type": "code",
      "source": [
        "# shuffle and batch the datasets. shuffling allows the model to see the data in a different order and batching splits the data into small chunks for\n",
        "# processing in parallel for better efficiency \n",
        "# 32 in batch means to divide the dataset into batches of 32 samples each. 32 in shuffle means the dataset is shuffled in batches of 32 samples each\n",
        "train_dataset = train_dataset.shuffle(len(x_train)).batch(32)\n",
        "test_dataset = test_dataset.batch(32)"
      ],
      "metadata": {
        "id": "udvKnmsK8wEJ"
      },
      "execution_count": null,
      "outputs": []
    },
    {
      "cell_type": "code",
      "source": [
        "# building the model\n",
        "model = keras.Sequential([\n",
        "    layers.Conv2D(32, 3, activation='relu', input_shape=(32,32,3)),\n",
        "    layers.MaxPooling2D(),\n",
        "    layers.Conv2D(64, 3, activation='relu'),\n",
        "    layers.MaxPooling2D(),\n",
        "    layers.Flatten(),\n",
        "    layers.Dense(64, activation='relu'),\n",
        "    layers.Dense(10, activation='softmax')\n",
        "])"
      ],
      "metadata": {
        "id": "mlSTn6sd9vQJ"
      },
      "execution_count": null,
      "outputs": []
    },
    {
      "cell_type": "code",
      "source": [
        "# compiling the model\n",
        "model.compile(optimizer='adam',\n",
        "              loss='categorical_crossentropy',\n",
        "              metrics=['accuracy'])"
      ],
      "metadata": {
        "id": "8PRjgM81AuRW"
      },
      "execution_count": null,
      "outputs": []
    },
    {
      "cell_type": "code",
      "source": [
        "# train the model going through the entire dataset 10 times\n",
        "model.fit(train_dataset, epochs=7)"
      ],
      "metadata": {
        "colab": {
          "base_uri": "https://localhost:8080/"
        },
        "id": "lUhXnga-A4F_",
        "outputId": "6e748358-c440-4290-e317-7fb23d0a7ed2"
      },
      "execution_count": null,
      "outputs": [
        {
          "output_type": "stream",
          "name": "stdout",
          "text": [
            "Epoch 1/7\n",
            "1563/1563 [==============================] - 87s 55ms/step - loss: 1.5291 - accuracy: 0.4481\n",
            "Epoch 2/7\n",
            "1563/1563 [==============================] - 81s 52ms/step - loss: 1.1776 - accuracy: 0.5856\n",
            "Epoch 3/7\n",
            "1563/1563 [==============================] - 77s 49ms/step - loss: 1.0226 - accuracy: 0.6414\n",
            "Epoch 4/7\n",
            "1563/1563 [==============================] - 78s 50ms/step - loss: 0.9367 - accuracy: 0.6744\n",
            "Epoch 5/7\n",
            "1563/1563 [==============================] - 78s 50ms/step - loss: 0.8710 - accuracy: 0.6988\n",
            "Epoch 6/7\n",
            "1563/1563 [==============================] - 77s 49ms/step - loss: 0.8214 - accuracy: 0.7162\n",
            "Epoch 7/7\n",
            "1563/1563 [==============================] - 77s 49ms/step - loss: 0.7741 - accuracy: 0.7341\n"
          ]
        },
        {
          "output_type": "execute_result",
          "data": {
            "text/plain": [
              "<keras.callbacks.History at 0x7fd49123bd60>"
            ]
          },
          "metadata": {},
          "execution_count": 9
        }
      ]
    },
    {
      "cell_type": "code",
      "source": [
        "# evaluate the model\n",
        "test_loss, test_acc = model.evaluate(test_dataset)\n",
        "print('Test accuracy:', test_acc)"
      ],
      "metadata": {
        "colab": {
          "base_uri": "https://localhost:8080/"
        },
        "id": "70iv82zvDehd",
        "outputId": "36fd359e-ac47-4849-8595-8a6773d057d9"
      },
      "execution_count": null,
      "outputs": [
        {
          "output_type": "stream",
          "name": "stdout",
          "text": [
            "313/313 [==============================] - 5s 17ms/step - loss: 0.9121 - accuracy: 0.6939\n",
            "Test accuracy: 0.6938999891281128\n"
          ]
        }
      ]
    }
  ]
}